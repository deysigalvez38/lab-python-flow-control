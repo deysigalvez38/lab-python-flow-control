{
 "cells": [
  {
   "cell_type": "markdown",
   "id": "d3bfc191-8885-42ee-b0a0-bbab867c6f9f",
   "metadata": {
    "tags": []
   },
   "source": [
    "# Lab | Flow Control"
   ]
  },
  {
   "cell_type": "markdown",
   "id": "3851fcd1-cf98-4653-9c89-e003b7ec9400",
   "metadata": {},
   "source": [
    "## Exercise: Managing Customer Orders Optimized\n",
    "\n",
    "In the last lab, you were starting an online store that sells various products. To ensure smooth operations, you developed a program that manages customer orders and inventory.\n",
    "\n",
    "You did so without using flow control. Let's go a step further and improve this code.\n",
    "\n",
    "Follow the steps below to complete the exercise:\n",
    "\n",
    "1. Look at your code from the lab data structures, and improve repeated code with loops.\n",
    "\n",
    "2. Instead of asking the user to input the name of three products that a customer wants to order, do the following:\n",
    "    \n",
    "    a. Prompt the user to enter the name of a product that a customer wants to order.\n",
    "    \n",
    "    b. Add the product name to the \"customer_orders\" set.\n",
    "    \n",
    "    c. Ask the user if they want to add another product (yes/no).\n",
    "    \n",
    "    d. Continue the loop until the user does not want to add another product.\n",
    "\n",
    "3. Instead of updating the inventory by subtracting 1 from the quantity of each product, only do it for  the products that were ordered (those in \"customer_orders\")."
   ]
  },
  {
   "cell_type": "code",
   "execution_count": 18,
   "id": "803ec14f",
   "metadata": {},
   "outputs": [
    {
     "name": "stdout",
     "output_type": "stream",
     "text": [
      "Inventory: {'t-shirt': 5, 'mug': 5, 'hat': 5, 'book': 5, 'keychain': 5}\n"
     ]
    }
   ],
   "source": [
    "#1. Look at your code from the lab data structures, and improve repeated code with loops.\n",
    "\n",
    "# 1. Define a list called `products` that contains the following items: \"t-shirt\", \"mug\", \"hat\", \"book\", \"keychain\".\n",
    "products = [\"t-shirt\", \"mug\", \"hat\", \"book\", \"keychain\"]\n",
    "\n",
    "# 2. Create an empty dictionary called `inventory`.\n",
    "inventory = {}\n",
    "\n",
    "# 3. Ask the user to input the quantity of each product available in the inventory. Use the product names from the `products` \n",
    "# list as keys in the `inventory` dictionary and assign the respective quantities as values.\n",
    "for product in products:\n",
    "    inventory[product] = int(input(f\"Enter the available quantity for {product}: \"))  \n",
    "\n",
    "print(\"Inventory:\", inventory)  \n",
    "\n",
    "\n"
   ]
  },
  {
   "cell_type": "code",
   "execution_count": 20,
   "id": "15e36095",
   "metadata": {},
   "outputs": [
    {
     "name": "stdout",
     "output_type": "stream",
     "text": [
      "Product not found in inventory.\n",
      "Customer Orders: {'book', 'hat', 'mug'}\n",
      "Updated Inventory: {'t-shirt': 5, 'mug': 4, 'hat': 4, 'book': 3, 'keychain': 5}\n"
     ]
    }
   ],
   "source": [
    "#2. Instead of asking the user to input the name of three products that a customer wants to order, do the following:\n",
    "    #a. Prompt the user to enter the name of a product that a customer wants to order.\n",
    "    #b. Add the product name to the \"customer_orders\" set.    \n",
    "    #c. Ask the user if they want to add another product (yes/no).    \n",
    "    #d. Continue the loop until the user does not want to add another product.\n",
    "\n",
    "customer_orders = set()\n",
    "\n",
    "for x in products:\n",
    "    order = input(\"Enter the name of a product to order:\").strip().lower()\n",
    "    if order in inventory:\n",
    "        customer_orders.add(order)\n",
    "        inventory[order] -= 1\n",
    "    else:\n",
    "        print(\"Product not found in inventory.\")\n",
    "        order2 = input(\"Do you want to order something else (yes/no):\").strip().lower()\n",
    "        if order2 == \"yes\":\n",
    "            order = input(\"Enter the name of a product to order:\").strip().lower()\n",
    "            customer_orders.add(order2)\n",
    "            inventory[order2] -= 1\n",
    "        else:\n",
    "            break\n",
    "\n",
    "print(\"Customer Orders:\", customer_orders)\n",
    "    \n",
    "#3. Instead of updating the inventory by subtracting 1 from the quantity of each product, only do it for  the products \n",
    "# that were ordered (those in \"customer_orders\").\n",
    "#for order in customer_orders:\n",
    "#    if order in inventory and inventory[order] > 0:\n",
    "#        inventory[order] -= 1\n",
    "\n",
    "print(\"Updated Inventory:\", inventory)"
   ]
  }
 ],
 "metadata": {
  "kernelspec": {
   "display_name": "Python 3",
   "language": "python",
   "name": "python3"
  },
  "language_info": {
   "codemirror_mode": {
    "name": "ipython",
    "version": 3
   },
   "file_extension": ".py",
   "mimetype": "text/x-python",
   "name": "python",
   "nbconvert_exporter": "python",
   "pygments_lexer": "ipython3",
   "version": "3.12.9"
  }
 },
 "nbformat": 4,
 "nbformat_minor": 5
}
